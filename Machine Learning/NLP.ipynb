{
 "cells": [
  {
   "cell_type": "code",
   "execution_count": 3,
   "metadata": {},
   "outputs": [],
   "source": [
    "import spacy"
   ]
  },
  {
   "cell_type": "code",
   "execution_count": 5,
   "metadata": {},
   "outputs": [
    {
     "name": "stdout",
     "output_type": "stream",
     "text": [
      "\u001b[38;5;2m✔ Download and installation successful\u001b[0m\n",
      "You can now load the package via spacy.load('en_core_web_sm')\n"
     ]
    }
   ],
   "source": [
    "nlp = spacy.cli.download(\"en_core_web_sm\")"
   ]
  },
  {
   "cell_type": "code",
   "execution_count": 6,
   "metadata": {},
   "outputs": [],
   "source": [
    "nlp = spacy.load('en_core_web_sm')"
   ]
  },
  {
   "cell_type": "code",
   "execution_count": 7,
   "metadata": {},
   "outputs": [
    {
     "name": "stdout",
     "output_type": "stream",
     "text": [
      "['I', 'am', 'flying', 'to', 'Thailand', '.']\n"
     ]
    }
   ],
   "source": [
    "doc = nlp(\"I am flying to Thailand.\")\n",
    "print([i.text for i in doc])"
   ]
  },
  {
   "cell_type": "code",
   "execution_count": 9,
   "metadata": {},
   "outputs": [
    {
     "name": "stdout",
     "output_type": "stream",
     "text": [
      "this this\n",
      "product product\n",
      "integrates integrate\n",
      "coth coth\n",
      "libraries library\n",
      "for for\n",
      "downloadind downloadind\n",
      "and and\n",
      "applying apply\n",
      "patched patch\n"
     ]
    }
   ],
   "source": [
    "#lemmatization\n",
    "doc = nlp(\"this product integrates coth libraries for downloadind and applying patched\")\n",
    "\n",
    "for token in doc:\n",
    "    print(token.text, token.lemma_)"
   ]
  },
  {
   "cell_type": "code",
   "execution_count": 10,
   "metadata": {},
   "outputs": [
    {
     "name": "stdout",
     "output_type": "stream",
     "text": [
      "I PRON PRP\n",
      "have AUX VBP\n",
      "flown VERB VBN\n",
      "to ADP IN\n",
      "Singapore PROPN NNP\n",
      ". PUNCT .\n",
      "I PRON PRP\n",
      "am AUX VBP\n",
      "flying VERB VBG\n",
      "to ADP IN\n",
      "Thailand PROPN NNP\n",
      ". PUNCT .\n"
     ]
    }
   ],
   "source": [
    "#part of speech tagging\n",
    "\n",
    "doc = nlp(\"I have flown to Singapore. I am flying to Thailand.\")\n",
    "\n",
    "for token in doc:\n",
    "    print(token.text, token.pos_, token.tag_)"
   ]
  },
  {
   "cell_type": "code",
   "execution_count": 11,
   "metadata": {},
   "outputs": [
    {
     "data": {
      "text/plain": [
       "'verb, 3rd person singular present'"
      ]
     },
     "execution_count": 11,
     "metadata": {},
     "output_type": "execute_result"
    }
   ],
   "source": [
    "spacy.explain(\"AUX\")\n",
    "spacy.explain(\"VBZ\")"
   ]
  },
  {
   "cell_type": "code",
   "execution_count": 18,
   "metadata": {},
   "outputs": [
    {
     "name": "stdout",
     "output_type": "stream",
     "text": [
      "[]\n"
     ]
    }
   ],
   "source": [
    "print([w.text for w in doc if w.tag_ == \"VBG\" or w.tag_ == \"VB\"])"
   ]
  },
  {
   "cell_type": "code",
   "execution_count": 19,
   "metadata": {},
   "outputs": [
    {
     "data": {
      "text/plain": [
       "The Golden Gate Bridge is an iconic landmark in San Francisco."
      ]
     },
     "execution_count": 19,
     "metadata": {},
     "output_type": "execute_result"
    }
   ],
   "source": [
    "doc"
   ]
  },
  {
   "cell_type": "code",
   "execution_count": 20,
   "metadata": {},
   "outputs": [
    {
     "name": "stdout",
     "output_type": "stream",
     "text": [
      "[The, Golden, Gate, Bridge, is, an, iconic, landmark, in, San, Francisco, .]\n"
     ]
    }
   ],
   "source": [
    "for sent in doc.sents:\n",
    "    print([sent[i] for i in range(len(sent))])"
   ]
  },
  {
   "cell_type": "code",
   "execution_count": 21,
   "metadata": {},
   "outputs": [
    {
     "name": "stdout",
     "output_type": "stream",
     "text": [
      "['The', 'Golden', 'Gate', 'Bridge', 'is', 'an', 'iconic', 'landmark', 'in', 'San', 'Francisco', '.']\n"
     ]
    }
   ],
   "source": [
    "doc = nlp(\"The Golden Gate Bridge is an iconic landmark in San Francisco.\")\n",
    "print([w.text for w in doc])"
   ]
  },
  {
   "cell_type": "code",
   "execution_count": 23,
   "metadata": {},
   "outputs": [
    {
     "name": "stdout",
     "output_type": "stream",
     "text": [
      "The the DET\n",
      "Golden Gate Bridge Golden Gate Bridge PROPN\n",
      "is be AUX\n",
      "an an DET\n",
      "iconic iconic ADJ\n",
      "landmark landmark NOUN\n",
      "in in ADP\n",
      "San Francisco San Francisco PROPN\n",
      ". . PUNCT\n"
     ]
    }
   ],
   "source": [
    "with doc.retokenize() as retokenizer:\n",
    "    retokenizer.merge(doc[1:4])\n",
    "with doc.retokenize() as retokenizer:\n",
    "    retokenizer.merge(doc[7:9])\n",
    "for token in doc:\n",
    "    print(token.text, token.lemma_, token.pos_)\n",
    "    "
   ]
  },
  {
   "cell_type": "code",
   "execution_count": 24,
   "metadata": {},
   "outputs": [
    {
     "name": "stdout",
     "output_type": "stream",
     "text": [
      "I PRON nsubj\n",
      "want VERB ROOT\n",
      "a DET det\n",
      "green ADJ amod\n",
      "apple NOUN dobj\n",
      ". PUNCT punct\n"
     ]
    }
   ],
   "source": [
    "doc = nlp(\"I want a green apple.\")\n",
    "\n",
    "for token in doc:\n",
    "    print(token.text, token.pos_, token.dep_)"
   ]
  },
  {
   "cell_type": "code",
   "execution_count": 27,
   "metadata": {},
   "outputs": [
    {
     "ename": "IndentationError",
     "evalue": "unexpected indent (<ipython-input-27-e7b42d13f81d>, line 2)",
     "output_type": "error",
     "traceback": [
      "\u001b[0;36m  File \u001b[0;32m\"<ipython-input-27-e7b42d13f81d>\"\u001b[0;36m, line \u001b[0;32m2\u001b[0m\n\u001b[0;31m    dispacy.serve(doc, style=\"dep\")\u001b[0m\n\u001b[0m    ^\u001b[0m\n\u001b[0;31mIndentationError\u001b[0m\u001b[0;31m:\u001b[0m unexpected indent\n"
     ]
    }
   ],
   "source": [
    "from spacy import display\n",
    "    dispacy.serve(doc, style=\"dep\")"
   ]
  },
  {
   "cell_type": "code",
   "execution_count": null,
   "metadata": {},
   "outputs": [],
   "source": []
  }
 ],
 "metadata": {
  "kernelspec": {
   "display_name": "Python 3",
   "language": "python",
   "name": "python3"
  },
  "language_info": {
   "codemirror_mode": {
    "name": "ipython",
    "version": 3
   },
   "file_extension": ".py",
   "mimetype": "text/x-python",
   "name": "python",
   "nbconvert_exporter": "python",
   "pygments_lexer": "ipython3",
   "version": "3.8.3"
  }
 },
 "nbformat": 4,
 "nbformat_minor": 4
}
